{
 "cells": [
  {
   "cell_type": "code",
   "execution_count": 1,
   "metadata": {},
   "outputs": [],
   "source": [
    "import pandas as pd\n",
    "import numpy as np\n",
    "from sklearn.model_selection import train_test_split\n",
    "from sklearn.tree import DecisionTreeClassifier\n",
    "from sklearn.model_selection import GridSearchCV, cross_val_score\n",
    "\n",
    "from sklearn import metrics\n",
    "from sklearn.metrics import classification_report, confusion_matrix, accuracy_score \n",
    "from sklearn.metrics import plot_confusion_matrix \n",
    "from sklearn.metrics import roc_auc_score\n",
    "    \n",
    "import seaborn as sns\n",
    "import matplotlib.pyplot as plt\n",
    "from sklearn.metrics import roc_curve, auc\n",
    "from matplotlib.pylab import rc, plot\n",
    "import itertools   \n",
    "import scikitplot as skplt \n",
    "from sklearn.tree import plot_tree"
   ]
  },
  {
   "cell_type": "code",
   "execution_count": 3,
   "metadata": {},
   "outputs": [],
   "source": [
    "df = pd.read_excel('./CardiologyCategorical.xls') \n",
    "df.rename(columns={\"chest pain type\": \"chest_pain_type\", \"blood pressure\": \"blood_pressure\", \"Fasting blood sugar <120\" : 'Fasting_blood_sugar_<120', 'resting ecg': 'resting_ecg', 'maximum heart rate' : 'maximum_heart_rate', '#colored vessels' : 'colored_vessels'}, inplace=True)"
   ]
  },
  {
   "cell_type": "markdown",
   "metadata": {},
   "source": [
    "# Preparing data"
   ]
  },
  {
   "cell_type": "code",
   "execution_count": 4,
   "metadata": {
    "scrolled": true
   },
   "outputs": [
    {
     "name": "stdout",
     "output_type": "stream",
     "text": [
      "<class 'pandas.core.frame.DataFrame'>\n",
      "RangeIndex: 303 entries, 0 to 302\n",
      "Data columns (total 13 columns):\n",
      " #   Column                    Non-Null Count  Dtype  \n",
      "---  ------                    --------------  -----  \n",
      " 0   class                     303 non-null    object \n",
      " 1   sex                       303 non-null    object \n",
      " 2   chest_pain_type           303 non-null    object \n",
      " 3   blood_pressure            303 non-null    int64  \n",
      " 4   cholesterol               303 non-null    int64  \n",
      " 5   Fasting_blood_sugar_<120  303 non-null    bool   \n",
      " 6   resting_ecg               303 non-null    object \n",
      " 7   maximum_heart_rate        303 non-null    int64  \n",
      " 8   angina                    303 non-null    bool   \n",
      " 9   peak                      303 non-null    float64\n",
      " 10  slope                     303 non-null    object \n",
      " 11  colored_vessels           303 non-null    int64  \n",
      " 12  thal                      303 non-null    object \n",
      "dtypes: bool(2), float64(1), int64(4), object(6)\n",
      "memory usage: 26.8+ KB\n"
     ]
    }
   ],
   "source": [
    "df.info()"
   ]
  },
  {
   "cell_type": "code",
   "execution_count": 5,
   "metadata": {},
   "outputs": [
    {
     "data": {
      "text/plain": [
       "(303, 13)"
      ]
     },
     "execution_count": 5,
     "metadata": {},
     "output_type": "execute_result"
    }
   ],
   "source": [
    "df.dropna(inplace=True) # drop null values\n",
    "df.shape # Matrix Shape"
   ]
  },
  {
   "cell_type": "code",
   "execution_count": 6,
   "metadata": {},
   "outputs": [
    {
     "data": {
      "text/plain": [
       " Asymptomatic      143\n",
       "NoTang              87\n",
       "Abnormal Angina     50\n",
       "Angina              23\n",
       "Name: chest_pain_type, dtype: int64"
      ]
     },
     "execution_count": 6,
     "metadata": {},
     "output_type": "execute_result"
    }
   ],
   "source": [
    "df['chest_pain_type'].value_counts()"
   ]
  },
  {
   "cell_type": "code",
   "execution_count": 7,
   "metadata": {},
   "outputs": [
    {
     "data": {
      "text/html": [
       "<div>\n",
       "<style scoped>\n",
       "    .dataframe tbody tr th:only-of-type {\n",
       "        vertical-align: middle;\n",
       "    }\n",
       "\n",
       "    .dataframe tbody tr th {\n",
       "        vertical-align: top;\n",
       "    }\n",
       "\n",
       "    .dataframe thead th {\n",
       "        text-align: right;\n",
       "    }\n",
       "</style>\n",
       "<table border=\"1\" class=\"dataframe\">\n",
       "  <thead>\n",
       "    <tr style=\"text-align: right;\">\n",
       "      <th></th>\n",
       "      <th>class</th>\n",
       "      <th>sex</th>\n",
       "      <th>chest_pain_type</th>\n",
       "      <th>blood_pressure</th>\n",
       "      <th>cholesterol</th>\n",
       "      <th>Fasting_blood_sugar_&lt;120</th>\n",
       "      <th>resting_ecg</th>\n",
       "      <th>maximum_heart_rate</th>\n",
       "      <th>angina</th>\n",
       "      <th>peak</th>\n",
       "      <th>slope</th>\n",
       "      <th>colored_vessels</th>\n",
       "      <th>thal</th>\n",
       "    </tr>\n",
       "  </thead>\n",
       "  <tbody>\n",
       "    <tr>\n",
       "      <th>0</th>\n",
       "      <td>Sick</td>\n",
       "      <td>Male</td>\n",
       "      <td>Asymptomatic</td>\n",
       "      <td>130</td>\n",
       "      <td>206</td>\n",
       "      <td>False</td>\n",
       "      <td>Hyp</td>\n",
       "      <td>132</td>\n",
       "      <td>True</td>\n",
       "      <td>2.4</td>\n",
       "      <td>Flat</td>\n",
       "      <td>2</td>\n",
       "      <td>Rev</td>\n",
       "    </tr>\n",
       "    <tr>\n",
       "      <th>1</th>\n",
       "      <td>Healthy</td>\n",
       "      <td>Male</td>\n",
       "      <td>Abnormal Angina</td>\n",
       "      <td>130</td>\n",
       "      <td>266</td>\n",
       "      <td>False</td>\n",
       "      <td>Normal</td>\n",
       "      <td>171</td>\n",
       "      <td>False</td>\n",
       "      <td>0.6</td>\n",
       "      <td>Up</td>\n",
       "      <td>0</td>\n",
       "      <td>Normal</td>\n",
       "    </tr>\n",
       "    <tr>\n",
       "      <th>2</th>\n",
       "      <td>Healthy</td>\n",
       "      <td>Male</td>\n",
       "      <td>Angina</td>\n",
       "      <td>110</td>\n",
       "      <td>211</td>\n",
       "      <td>False</td>\n",
       "      <td>Hyp</td>\n",
       "      <td>144</td>\n",
       "      <td>True</td>\n",
       "      <td>1.8</td>\n",
       "      <td>Flat</td>\n",
       "      <td>0</td>\n",
       "      <td>Normal</td>\n",
       "    </tr>\n",
       "    <tr>\n",
       "      <th>3</th>\n",
       "      <td>Sick</td>\n",
       "      <td>Male</td>\n",
       "      <td>Asymptomatic</td>\n",
       "      <td>130</td>\n",
       "      <td>254</td>\n",
       "      <td>False</td>\n",
       "      <td>Hyp</td>\n",
       "      <td>147</td>\n",
       "      <td>False</td>\n",
       "      <td>1.4</td>\n",
       "      <td>Flat</td>\n",
       "      <td>1</td>\n",
       "      <td>Rev</td>\n",
       "    </tr>\n",
       "    <tr>\n",
       "      <th>4</th>\n",
       "      <td>Sick</td>\n",
       "      <td>Male</td>\n",
       "      <td>Asymptomatic</td>\n",
       "      <td>140</td>\n",
       "      <td>203</td>\n",
       "      <td>True</td>\n",
       "      <td>Hyp</td>\n",
       "      <td>155</td>\n",
       "      <td>True</td>\n",
       "      <td>3.1</td>\n",
       "      <td>Down</td>\n",
       "      <td>0</td>\n",
       "      <td>Rev</td>\n",
       "    </tr>\n",
       "  </tbody>\n",
       "</table>\n",
       "</div>"
      ],
      "text/plain": [
       "     class   sex  chest_pain_type  blood_pressure  cholesterol  \\\n",
       "0     Sick  Male     Asymptomatic             130          206   \n",
       "1  Healthy  Male  Abnormal Angina             130          266   \n",
       "2  Healthy  Male           Angina             110          211   \n",
       "3     Sick  Male     Asymptomatic             130          254   \n",
       "4     Sick  Male     Asymptomatic             140          203   \n",
       "\n",
       "   Fasting_blood_sugar_<120 resting_ecg  maximum_heart_rate  angina  peak  \\\n",
       "0                     False         Hyp                 132    True   2.4   \n",
       "1                     False      Normal                 171   False   0.6   \n",
       "2                     False         Hyp                 144    True   1.8   \n",
       "3                     False         Hyp                 147   False   1.4   \n",
       "4                      True         Hyp                 155    True   3.1   \n",
       "\n",
       "  slope  colored_vessels    thal  \n",
       "0  Flat                2     Rev  \n",
       "1    Up                0  Normal  \n",
       "2  Flat                0  Normal  \n",
       "3  Flat                1     Rev  \n",
       "4  Down                0     Rev  "
      ]
     },
     "execution_count": 7,
     "metadata": {},
     "output_type": "execute_result"
    }
   ],
   "source": [
    "df.head()"
   ]
  },
  {
   "cell_type": "markdown",
   "metadata": {},
   "source": [
    "# Label Encoding\n"
   ]
  },
  {
   "cell_type": "code",
   "execution_count": 8,
   "metadata": {},
   "outputs": [],
   "source": [
    "# Create list of unique values\n",
    "chest_pain_type = tuple(df['chest_pain_type'].value_counts().index)\n",
    "thal = tuple(df['thal'].value_counts().index)\n",
    "slope = tuple(df['slope'].value_counts().index)\n",
    "resting_ecg = tuple(df['resting_ecg'].value_counts().index)\n",
    "\n",
    "#create temp dataframe\n",
    "df_chest = pd.DataFrame(df, columns=['chest_pain_type'])\n",
    "df_thal = pd.DataFrame(df, columns=['thal'])\n",
    "df_slope = pd.DataFrame(df, columns=['slope'])\n",
    "df_resting_ecg = pd.DataFrame(df, columns=['resting_ecg'])\n",
    "\n",
    "\n",
    "for col in ['thal', 'slope', 'resting_ecg']:\n",
    "    df[col] = df[col].astype('category')"
   ]
  },
  {
   "cell_type": "code",
   "execution_count": 9,
   "metadata": {},
   "outputs": [],
   "source": [
    "df_slope = pd.get_dummies(df_slope, columns=['slope'], prefix=[\"slope:\"], dtype='int64')\n",
    "df_resting_ecg = pd.get_dummies(df_resting_ecg, columns=['resting_ecg'], prefix=[\"resting_ecg:\"], dtype='int64')\n",
    "\n",
    "# merge with main df bridge_df on key values\n",
    "df = df.join(df_slope)\n",
    "df = df.join(df_resting_ecg)"
   ]
  },
  {
   "cell_type": "code",
   "execution_count": 10,
   "metadata": {},
   "outputs": [],
   "source": [
    "df.drop(['slope'], axis=1, inplace=True)\n",
    "df.drop(['resting_ecg'], axis=1, inplace=True)"
   ]
  },
  {
   "cell_type": "code",
   "execution_count": 11,
   "metadata": {},
   "outputs": [],
   "source": [
    "# data mapping to int values\n",
    "state =  {\"Healthy\": 0, 'Sick': 1,}\n",
    "df['class'] = df['class'].map(state)\n",
    "\n",
    "d_sex = {\"Male\": 1, \"Female\": 0,}\n",
    "df['sex'] = df['sex'].map(d_sex)\n",
    "\n",
    "sugar = {True: 1, False: 0,}\n",
    "df['Fasting_blood_sugar_<120'] = df['Fasting_blood_sugar_<120'].map(sugar)\n",
    "\n",
    "angina = {True: 1, False: 0,}\n",
    "df['angina'] = df['angina'].map(angina)\n",
    "\n",
    "\n",
    "thal = {'Normal': 1, 'Fix': 2, 'Rev': 3}\n",
    "df['thal'] = df['thal'].map(thal)\n",
    "\n",
    "\n",
    "chest_pain_type = {' Asymptomatic': 0, 'NoTang': 1, 'Abnormal Angina': 2, 'Angina': 3}\n",
    "df['chest_pain_type'] = df['chest_pain_type'].map(chest_pain_type)"
   ]
  },
  {
   "cell_type": "code",
   "execution_count": 12,
   "metadata": {},
   "outputs": [
    {
     "name": "stdout",
     "output_type": "stream",
     "text": [
      "<class 'pandas.core.frame.DataFrame'>\n",
      "Int64Index: 303 entries, 0 to 302\n",
      "Data columns (total 17 columns):\n",
      " #   Column                    Non-Null Count  Dtype   \n",
      "---  ------                    --------------  -----   \n",
      " 0   class                     303 non-null    int64   \n",
      " 1   sex                       303 non-null    int64   \n",
      " 2   chest_pain_type           303 non-null    int64   \n",
      " 3   blood_pressure            303 non-null    int64   \n",
      " 4   cholesterol               303 non-null    int64   \n",
      " 5   Fasting_blood_sugar_<120  303 non-null    int64   \n",
      " 6   maximum_heart_rate        303 non-null    int64   \n",
      " 7   angina                    303 non-null    int64   \n",
      " 8   peak                      303 non-null    float64 \n",
      " 9   colored_vessels           303 non-null    int64   \n",
      " 10  thal                      303 non-null    category\n",
      " 11  slope:_Down               303 non-null    int64   \n",
      " 12  slope:_Flat               303 non-null    int64   \n",
      " 13  slope:_Up                 303 non-null    int64   \n",
      " 14  resting_ecg:_Abnormal     303 non-null    int64   \n",
      " 15  resting_ecg:_Hyp          303 non-null    int64   \n",
      " 16  resting_ecg:_Normal       303 non-null    int64   \n",
      "dtypes: category(1), float64(1), int64(15)\n",
      "memory usage: 50.6 KB\n"
     ]
    }
   ],
   "source": [
    "df.info()"
   ]
  },
  {
   "cell_type": "code",
   "execution_count": 13,
   "metadata": {
    "scrolled": true
   },
   "outputs": [
    {
     "data": {
      "text/html": [
       "<div>\n",
       "<style scoped>\n",
       "    .dataframe tbody tr th:only-of-type {\n",
       "        vertical-align: middle;\n",
       "    }\n",
       "\n",
       "    .dataframe tbody tr th {\n",
       "        vertical-align: top;\n",
       "    }\n",
       "\n",
       "    .dataframe thead th {\n",
       "        text-align: right;\n",
       "    }\n",
       "</style>\n",
       "<table border=\"1\" class=\"dataframe\">\n",
       "  <thead>\n",
       "    <tr style=\"text-align: right;\">\n",
       "      <th></th>\n",
       "      <th>class</th>\n",
       "      <th>sex</th>\n",
       "      <th>chest_pain_type</th>\n",
       "      <th>blood_pressure</th>\n",
       "      <th>cholesterol</th>\n",
       "      <th>Fasting_blood_sugar_&lt;120</th>\n",
       "      <th>maximum_heart_rate</th>\n",
       "      <th>angina</th>\n",
       "      <th>peak</th>\n",
       "      <th>colored_vessels</th>\n",
       "      <th>thal</th>\n",
       "      <th>slope:_Down</th>\n",
       "      <th>slope:_Flat</th>\n",
       "      <th>slope:_Up</th>\n",
       "      <th>resting_ecg:_Abnormal</th>\n",
       "      <th>resting_ecg:_Hyp</th>\n",
       "      <th>resting_ecg:_Normal</th>\n",
       "    </tr>\n",
       "  </thead>\n",
       "  <tbody>\n",
       "    <tr>\n",
       "      <th>0</th>\n",
       "      <td>1</td>\n",
       "      <td>1</td>\n",
       "      <td>0</td>\n",
       "      <td>130</td>\n",
       "      <td>206</td>\n",
       "      <td>0</td>\n",
       "      <td>132</td>\n",
       "      <td>1</td>\n",
       "      <td>2.4</td>\n",
       "      <td>2</td>\n",
       "      <td>3</td>\n",
       "      <td>0</td>\n",
       "      <td>1</td>\n",
       "      <td>0</td>\n",
       "      <td>0</td>\n",
       "      <td>1</td>\n",
       "      <td>0</td>\n",
       "    </tr>\n",
       "    <tr>\n",
       "      <th>1</th>\n",
       "      <td>0</td>\n",
       "      <td>1</td>\n",
       "      <td>2</td>\n",
       "      <td>130</td>\n",
       "      <td>266</td>\n",
       "      <td>0</td>\n",
       "      <td>171</td>\n",
       "      <td>0</td>\n",
       "      <td>0.6</td>\n",
       "      <td>0</td>\n",
       "      <td>1</td>\n",
       "      <td>0</td>\n",
       "      <td>0</td>\n",
       "      <td>1</td>\n",
       "      <td>0</td>\n",
       "      <td>0</td>\n",
       "      <td>1</td>\n",
       "    </tr>\n",
       "    <tr>\n",
       "      <th>2</th>\n",
       "      <td>0</td>\n",
       "      <td>1</td>\n",
       "      <td>3</td>\n",
       "      <td>110</td>\n",
       "      <td>211</td>\n",
       "      <td>0</td>\n",
       "      <td>144</td>\n",
       "      <td>1</td>\n",
       "      <td>1.8</td>\n",
       "      <td>0</td>\n",
       "      <td>1</td>\n",
       "      <td>0</td>\n",
       "      <td>1</td>\n",
       "      <td>0</td>\n",
       "      <td>0</td>\n",
       "      <td>1</td>\n",
       "      <td>0</td>\n",
       "    </tr>\n",
       "    <tr>\n",
       "      <th>3</th>\n",
       "      <td>1</td>\n",
       "      <td>1</td>\n",
       "      <td>0</td>\n",
       "      <td>130</td>\n",
       "      <td>254</td>\n",
       "      <td>0</td>\n",
       "      <td>147</td>\n",
       "      <td>0</td>\n",
       "      <td>1.4</td>\n",
       "      <td>1</td>\n",
       "      <td>3</td>\n",
       "      <td>0</td>\n",
       "      <td>1</td>\n",
       "      <td>0</td>\n",
       "      <td>0</td>\n",
       "      <td>1</td>\n",
       "      <td>0</td>\n",
       "    </tr>\n",
       "    <tr>\n",
       "      <th>4</th>\n",
       "      <td>1</td>\n",
       "      <td>1</td>\n",
       "      <td>0</td>\n",
       "      <td>140</td>\n",
       "      <td>203</td>\n",
       "      <td>1</td>\n",
       "      <td>155</td>\n",
       "      <td>1</td>\n",
       "      <td>3.1</td>\n",
       "      <td>0</td>\n",
       "      <td>3</td>\n",
       "      <td>1</td>\n",
       "      <td>0</td>\n",
       "      <td>0</td>\n",
       "      <td>0</td>\n",
       "      <td>1</td>\n",
       "      <td>0</td>\n",
       "    </tr>\n",
       "  </tbody>\n",
       "</table>\n",
       "</div>"
      ],
      "text/plain": [
       "   class  sex  chest_pain_type  blood_pressure  cholesterol  \\\n",
       "0      1    1                0             130          206   \n",
       "1      0    1                2             130          266   \n",
       "2      0    1                3             110          211   \n",
       "3      1    1                0             130          254   \n",
       "4      1    1                0             140          203   \n",
       "\n",
       "   Fasting_blood_sugar_<120  maximum_heart_rate  angina  peak  \\\n",
       "0                         0                 132       1   2.4   \n",
       "1                         0                 171       0   0.6   \n",
       "2                         0                 144       1   1.8   \n",
       "3                         0                 147       0   1.4   \n",
       "4                         1                 155       1   3.1   \n",
       "\n",
       "   colored_vessels thal  slope:_Down  slope:_Flat  slope:_Up  \\\n",
       "0                2    3            0            1          0   \n",
       "1                0    1            0            0          1   \n",
       "2                0    1            0            1          0   \n",
       "3                1    3            0            1          0   \n",
       "4                0    3            1            0          0   \n",
       "\n",
       "   resting_ecg:_Abnormal  resting_ecg:_Hyp  resting_ecg:_Normal  \n",
       "0                      0                 1                    0  \n",
       "1                      0                 0                    1  \n",
       "2                      0                 1                    0  \n",
       "3                      0                 1                    0  \n",
       "4                      0                 1                    0  "
      ]
     },
     "execution_count": 13,
     "metadata": {},
     "output_type": "execute_result"
    }
   ],
   "source": [
    "df.head()"
   ]
  },
  {
   "cell_type": "markdown",
   "metadata": {},
   "source": [
    "# Train/Test split"
   ]
  },
  {
   "cell_type": "code",
   "execution_count": 14,
   "metadata": {},
   "outputs": [],
   "source": [
    "# Splitting for parameters and target class\n",
    "y = df['class'] # target class values\n",
    "X = df.drop('class', axis = 1) # Parameters"
   ]
  },
  {
   "cell_type": "code",
   "execution_count": 15,
   "metadata": {},
   "outputs": [],
   "source": [
    "# Splitting to train/test dataset with startification by target class. \n",
    "X_train, X_holdout, y_train, y_holdout,  = train_test_split(X, y, test_size=0.3,\n",
    "                                                          random_state=10, stratify=y) "
   ]
  },
  {
   "cell_type": "code",
   "execution_count": 16,
   "metadata": {},
   "outputs": [
    {
     "data": {
      "text/plain": [
       "((212, 16), (91, 16), (212,), (91,))"
      ]
     },
     "execution_count": 16,
     "metadata": {},
     "output_type": "execute_result"
    }
   ],
   "source": [
    "# Train test shape\n",
    "X_train.shape, X_holdout.shape, y_train.shape, y_holdout.shape"
   ]
  },
  {
   "cell_type": "code",
   "execution_count": 17,
   "metadata": {},
   "outputs": [],
   "source": [
    "tree = DecisionTreeClassifier(random_state=10) # Decision Tree with default hyperparameters"
   ]
  },
  {
   "cell_type": "code",
   "execution_count": 18,
   "metadata": {},
   "outputs": [
    {
     "name": "stdout",
     "output_type": "stream",
     "text": [
      "Wall time: 5 ms\n"
     ]
    },
    {
     "data": {
      "text/plain": [
       "DecisionTreeClassifier(random_state=10)"
      ]
     },
     "execution_count": 18,
     "metadata": {},
     "output_type": "execute_result"
    }
   ],
   "source": [
    "%%time\n",
    "tree.fit(X_train, y_train)"
   ]
  },
  {
   "cell_type": "code",
   "execution_count": 19,
   "metadata": {},
   "outputs": [
    {
     "name": "stdout",
     "output_type": "stream",
     "text": [
      "[0.54545455 0.81818182 0.80952381 0.76190476 0.80952381 0.71428571\n",
      " 0.66666667 0.76190476 0.76190476 0.85714286]\n"
     ]
    }
   ],
   "source": [
    "# Cross Validation score of Decision Tree with default hyperparameters\n",
    "print(cross_val_score(tree, X_train, y_train, cv=10))"
   ]
  },
  {
   "cell_type": "code",
   "execution_count": 20,
   "metadata": {},
   "outputs": [
    {
     "name": "stdout",
     "output_type": "stream",
     "text": [
      "0.7362637362637363\n"
     ]
    }
   ],
   "source": [
    "# Decision Tree with default hyperparameters on holdout data\n",
    "print(metrics.accuracy_score(y_holdout, tree.predict(X_holdout)))"
   ]
  },
  {
   "cell_type": "markdown",
   "metadata": {},
   "source": [
    "# Hyperparameter Tuning"
   ]
  },
  {
   "cell_type": "code",
   "execution_count": 21,
   "metadata": {},
   "outputs": [],
   "source": [
    "# GridSearch of best hyperparameters\n",
    "tree_params = {'criterion': ('gini', \"entropy\"), \n",
    "               'min_samples_leaf': range(1,15),'max_depth': range(1,10)} \n",
    "tree_grid = GridSearchCV(tree, tree_params,\n",
    "                         cv=10, n_jobs=-1,\n",
    "                        verbose=True) "
   ]
  },
  {
   "cell_type": "code",
   "execution_count": 22,
   "metadata": {},
   "outputs": [
    {
     "name": "stdout",
     "output_type": "stream",
     "text": [
      "Fitting 10 folds for each of 252 candidates, totalling 2520 fits\n"
     ]
    },
    {
     "name": "stderr",
     "output_type": "stream",
     "text": [
      "[Parallel(n_jobs=-1)]: Using backend LokyBackend with 4 concurrent workers.\n",
      "[Parallel(n_jobs=-1)]: Done  68 tasks      | elapsed:    2.8s\n"
     ]
    },
    {
     "name": "stdout",
     "output_type": "stream",
     "text": [
      "Wall time: 7.03 s\n"
     ]
    },
    {
     "name": "stderr",
     "output_type": "stream",
     "text": [
      "[Parallel(n_jobs=-1)]: Done 2508 tasks      | elapsed:    6.9s\n",
      "[Parallel(n_jobs=-1)]: Done 2520 out of 2520 | elapsed:    6.9s finished\n"
     ]
    },
    {
     "data": {
      "text/plain": [
       "GridSearchCV(cv=10, estimator=DecisionTreeClassifier(random_state=10),\n",
       "             n_jobs=-1,\n",
       "             param_grid={'criterion': ('gini', 'entropy'),\n",
       "                         'max_depth': range(1, 10),\n",
       "                         'min_samples_leaf': range(1, 15)},\n",
       "             verbose=True)"
      ]
     },
     "execution_count": 22,
     "metadata": {},
     "output_type": "execute_result"
    }
   ],
   "source": [
    "%%time\n",
    "tree_grid.fit(X_train, y_train)"
   ]
  },
  {
   "cell_type": "code",
   "execution_count": 23,
   "metadata": {},
   "outputs": [
    {
     "data": {
      "text/plain": [
       "DecisionTreeClassifier(criterion='entropy', max_depth=3, min_samples_leaf=8,\n",
       "                       random_state=10)"
      ]
     },
     "execution_count": 23,
     "metadata": {},
     "output_type": "execute_result"
    }
   ],
   "source": [
    "tree_grid.best_estimator_ # Best Hyperparameters "
   ]
  },
  {
   "cell_type": "code",
   "execution_count": 24,
   "metadata": {},
   "outputs": [
    {
     "data": {
      "text/plain": [
       "array([0.81818182, 0.95454545, 0.85714286, 0.95238095, 0.85714286,\n",
       "       0.71428571, 0.85714286, 0.9047619 , 0.80952381, 0.95238095])"
      ]
     },
     "execution_count": 24,
     "metadata": {},
     "output_type": "execute_result"
    }
   ],
   "source": [
    "(cross_val_score(tree_grid.best_estimator_, X_train, y_train, cv=10)) # Cross Validation score (10х) "
   ]
  },
  {
   "cell_type": "code",
   "execution_count": 25,
   "metadata": {},
   "outputs": [
    {
     "data": {
      "text/plain": [
       "0.7802197802197802"
      ]
     },
     "execution_count": 25,
     "metadata": {},
     "output_type": "execute_result"
    }
   ],
   "source": [
    "# Decision Tree with best hyperparameters on holdout data\n",
    "metrics.accuracy_score(y_holdout, tree_grid.best_estimator_.predict(X_holdout)) "
   ]
  },
  {
   "cell_type": "code",
   "execution_count": 26,
   "metadata": {},
   "outputs": [],
   "source": [
    "#Prediction\n",
    "y_pred = tree_grid.best_estimator_.predict(X_holdout)"
   ]
  },
  {
   "cell_type": "markdown",
   "metadata": {},
   "source": [
    "### Характеристики бинарного классификатора\n",
    "Основываясь на данной таблице, можно ввести несколько величин, характеризующих бинарный классификатор:\n",
    "$$rec = TPR = \\frac{TP}{TP + FN},\\quad SPC = \\frac{TN}{TN + FP},\\quad prec = PPV = \\frac{TP}{TP + FP},\\quad FPR = 1 - SPC,$$\n",
    "\n",
    "$$ACC = \\frac{TP + TN}{TP + TN + FP + FN},\\quad F1 = 2\\frac{PPV\\cdot TRP}{PPV + TPR}.$$\n",
    "\n",
    "Полнота $TPR$ (True positive rate, recall, sensitivity) - доля верно классифицированных положительных примеров среди всех положительных примеров.\n",
    "\n",
    "Специфичность $SPC$ (Specificity, true negative rate) - доля верно классифицированных отрицательных примеров среди всех отрицательных примеров.\n",
    "\n",
    "Точность $PPV$ (Positive predictive value, precision) - доля верно классифицированных положительных примеров среди всех примеров, классифицированных положительно.\n",
    "\n",
    "$FPR$ (False positive rate) - доля ошибочно классифицированных отрицательных примеров среди всех отрицательных примеров.\n",
    "\n",
    "$ACC$ (Accuracy) - доля верно классифицированных примеров среди всех примеров. Основная характеристика качества классификации.\n",
    "\n",
    "$F1$ (F1-measure) - среднее гармоническое точности и полноты. Позволяет учесть обе характеристики одновременно."
   ]
  },
  {
   "cell_type": "code",
   "execution_count": 27,
   "metadata": {
    "scrolled": true
   },
   "outputs": [
    {
     "data": {
      "image/png": "[encoded data removed]",
      "text/plain": [
       "<Figure size 432x288 with 2 Axes>"
      ]
     },
     "metadata": {
      "needs_background": "light"
     },
     "output_type": "display_data"
    },
    {
     "name": "stdout",
     "output_type": "stream",
     "text": [
      "Classification Report:\n",
      "              precision    recall  f1-score   support\n",
      "\n",
      "           0       0.77      0.86      0.81        50\n",
      "           1       0.80      0.68      0.74        41\n",
      "\n",
      "    accuracy                           0.78        91\n",
      "   macro avg       0.78      0.77      0.77        91\n",
      "weighted avg       0.78      0.78      0.78        91\n",
      "\n",
      "Accuracy: 0.7802197802197802\n"
     ]
    }
   ],
   "source": [
    "#Confusion Matrix:\n",
    "plot_confusion_matrix(tree_grid.best_estimator_, X_holdout, y_holdout, cmap = plt.cm.Blues, display_labels = ['Healthy', 'Sick'] )\n",
    "plt.show()"
   ]
  },
  {
   "cell_type": "code",
   "execution_count": null,
   "metadata": {},
   "outputs": [],
   "source": [
    "result1 = classification_report(y_holdout, y_pred) # Classification Report\n",
    "print(\"Classification Report:\",)\n",
    "print (result1)\n",
    "\n",
    "result2 = accuracy_score(y_holdout,y_pred) # accuracy score\n",
    "print(\"Accuracy:\",result2)"
   ]
  },
  {
   "cell_type": "raw",
   "metadata": {},
   "source": [
    "plt.figure(figsize=(35,20))\n",
    "a = plot_tree(tree_grid.best_estimator_, feature_names=X.columns, filled=True)\n",
    "plt.show(a)"
   ]
  },
  {
   "cell_type": "code",
   "execution_count": 28,
   "metadata": {},
   "outputs": [
    {
     "data": {
      "image/png": "[encoded data removed]",
      "text/plain": [
       "<Figure size 720x576 with 1 Axes>"
      ]
     },
     "metadata": {},
     "output_type": "display_data"
    },
    {
     "name": "stdout",
     "output_type": "stream",
     "text": [
      "0.8400000000000001\n"
     ]
    }
   ],
   "source": [
    "# ROC curve graph\n",
    "\n",
    "sns.set(font_scale=1.5)\n",
    "sns.set_color_codes(\"muted\")\n",
    "\n",
    "plt.figure(figsize=(10, 8))\n",
    "fpr, tpr, thresholds = roc_curve(y_holdout, tree_grid.best_estimator_.predict_proba(X_holdout)[:,1], pos_label=1)\n",
    "lw = 2\n",
    "plt.plot(fpr, tpr, lw=lw, label='ROC curve ')\n",
    "plt.plot([0, 1], [0, 1])\n",
    "plt.xlim([0.0, 1.0])\n",
    "plt.ylim([0.0, 1.05])\n",
    "plt.xlabel('False Positive Rate')\n",
    "plt.ylabel('True Positive Rate')\n",
    "plt.title('ROC curve')\n",
    "plt.savefig(\"ROC.png\")\n",
    "plt.show()\n",
    "\n",
    "\n",
    "# ROC AUC score\n",
    "y_score = tree_grid.best_estimator_.predict_proba(X_holdout)[:,1]\n",
    "print(roc_auc_score(y_holdout, y_score))"
   ]
  },
  {
   "cell_type": "code",
   "execution_count": 29,
   "metadata": {},
   "outputs": [
    {
     "data": {
      "text/plain": [
       "<AxesSubplot:title={'center':'Cumulative Gains Curve'}, xlabel='Percentage of sample', ylabel='Gain'>"
      ]
     },
     "execution_count": 29,
     "metadata": {},
     "output_type": "execute_result"
    },
    {
     "data": {
      "image/png": "[encoded data removed]",
      "text/plain": [
       "<Figure size 432x288 with 1 Axes>"
      ]
     },
     "metadata": {},
     "output_type": "display_data"
    }
   ],
   "source": [
    "# Prediction probabilities\n",
    "predicted_probabilities = tree_grid.best_estimator_.predict_proba(X_holdout)\n",
    "\n",
    "# Gain-curve\n",
    "skplt.metrics.plot_cumulative_gain(y_holdout, predicted_probabilities)"
   ]
  },
  {
   "cell_type": "code",
   "execution_count": 30,
   "metadata": {},
   "outputs": [
    {
     "data": {
      "text/plain": [
       "<AxesSubplot:title={'center':'Lift Curve'}, xlabel='Percentage of sample', ylabel='Lift'>"
      ]
     },
     "execution_count": 30,
     "metadata": {},
     "output_type": "execute_result"
    },
    {
     "data": {
      "image/png": "[encoded data removed]",
      "text/plain": [
       "<Figure size 432x288 with 1 Axes>"
      ]
     },
     "metadata": {},
     "output_type": "display_data"
    }
   ],
   "source": [
    "# Lift-curve\n",
    "skplt.metrics.plot_lift_curve(y_holdout, predicted_probabilities)"
   ]
  },
  {
   "cell_type": "code",
   "execution_count": 31,
   "metadata": {},
   "outputs": [
    {
     "data": {
      "text/plain": [
       "<AxesSubplot:title={'center':'Feature Importance'}>"
      ]
     },
     "execution_count": 31,
     "metadata": {},
     "output_type": "execute_result"
    },
    {
     "data": {
      "image/png": "[encoded data removed]",
      "text/plain": [
       "<Figure size 432x288 with 1 Axes>"
      ]
     },
     "metadata": {},
     "output_type": "display_data"
    }
   ],
   "source": [
    "# Feature Importance\n",
    "skplt.estimators.plot_feature_importances(tree_grid.best_estimator_, title='Feature Importance', feature_names=X_holdout.columns, \n",
    "                                          max_num_features=5, \n",
    "                                          order='descending', x_tick_rotation=70,\n",
    "                                          ax=None, figsize=None, title_fontsize='medium', text_fontsize='medium')"
   ]
  },
  {
   "cell_type": "code",
   "execution_count": null,
   "metadata": {},
   "outputs": [],
   "source": []
  },
  {
   "cell_type": "code",
   "execution_count": null,
   "metadata": {},
   "outputs": [],
   "source": []
  }
 ],
 "metadata": {
  "kernelspec": {
   "display_name": "Python 3",
   "language": "python",
   "name": "python3"
  },
  "language_info": {
   "codemirror_mode": {
    "name": "ipython",
    "version": 3
   },
   "file_extension": ".py",
   "mimetype": "text/x-python",
   "name": "python",
   "nbconvert_exporter": "python",
   "pygments_lexer": "ipython3",
   "version": "3.8.5"
  }
 },
 "nbformat": 4,
 "nbformat_minor": 4
}
